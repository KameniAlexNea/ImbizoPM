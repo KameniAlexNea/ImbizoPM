{
 "cells": [
  {
   "cell_type": "code",
   "execution_count": null,
   "id": "d973afe0",
   "metadata": {},
   "outputs": [],
   "source": [
    "%cd .."
   ]
  },
  {
   "cell_type": "code",
   "execution_count": null,
   "id": "98bbc18c",
   "metadata": {},
   "outputs": [],
   "source": [
    "from imbizopm_agents.graph import create_project_planning_graph, run_project_planning_graph\n",
    "from IPython.display import display, Image\n",
    "from langgraph.graph.graph import CompiledGraph\n",
    "import os"
   ]
  },
  {
   "cell_type": "code",
   "execution_count": null,
   "id": "5daba6c9",
   "metadata": {},
   "outputs": [],
   "source": [
    "from langchain.chat_models import init_chat_model\n",
    "\n",
    "llm = init_chat_model(\"openai:gpt-4o-mini\")"
   ]
  },
  {
   "cell_type": "code",
   "execution_count": null,
   "id": "c863780d",
   "metadata": {},
   "outputs": [],
   "source": [
    "graph: CompiledGraph = create_project_planning_graph(llm, )"
   ]
  },
  {
   "cell_type": "code",
   "execution_count": null,
   "id": "a1286b93",
   "metadata": {},
   "outputs": [],
   "source": [
    "try:\n",
    "    display(Image(graph.get_graph().draw_png()))\n",
    "except Exception as e:\n",
    "    print(f\"Error creating graph: {e}\")"
   ]
  },
  {
   "cell_type": "code",
   "execution_count": null,
   "id": "b9bba906",
   "metadata": {},
   "outputs": [],
   "source": [
    "run_project_planning_graph(\n",
    "    graph,\n",
    "    user_input=\"AgentFlow is a Python library that automates the orchestration of multi-step agent workflows by integrating intelligent planning, routing, and execution of specialized operations.\",\n",
    ")"
   ]
  },
  {
   "cell_type": "code",
   "execution_count": null,
   "id": "b0ad12f8",
   "metadata": {},
   "outputs": [],
   "source": []
  }
 ],
 "metadata": {
  "kernelspec": {
   "display_name": ".venv",
   "language": "python",
   "name": "python3"
  },
  "language_info": {
   "codemirror_mode": {
    "name": "ipython",
    "version": 3
   },
   "file_extension": ".py",
   "mimetype": "text/x-python",
   "name": "python",
   "nbconvert_exporter": "python",
   "pygments_lexer": "ipython3",
   "version": "3.10.13"
  }
 },
 "nbformat": 4,
 "nbformat_minor": 5
}
