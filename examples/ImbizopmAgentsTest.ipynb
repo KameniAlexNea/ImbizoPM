{
 "cells": [
  {
   "cell_type": "code",
   "execution_count": null,
   "id": "d973afe0",
   "metadata": {},
   "outputs": [],
   "source": [
    "%cd .."
   ]
  },
  {
   "cell_type": "markdown",
   "id": "733ed2fd",
   "metadata": {},
   "source": [
    "# ImbizoPM Agents Test\n",
    "\n",
    "This notebook demonstrates how to use the ImbizoPM agents to create and execute a project planning workflow."
   ]
  },
  {
   "cell_type": "code",
   "execution_count": null,
   "id": "98bbc18c",
   "metadata": {},
   "outputs": [],
   "source": [
    "from imbizopm_agents.graph import create_project_planning_graph, run_project_planning_graph\n",
    "from IPython.display import display, Image\n",
    "from langgraph.graph.graph import CompiledGraph"
   ]
  },
  {
   "cell_type": "code",
   "execution_count": null,
   "id": "5daba6c9",
   "metadata": {},
   "outputs": [],
   "source": [
    "from langchain.chat_models import init_chat_model\n",
    "\n",
    "llm = init_chat_model(\"ollama:llama3.3\")"
   ]
  },
  {
   "cell_type": "code",
   "execution_count": null,
   "id": "c863780d",
   "metadata": {},
   "outputs": [],
   "source": [
    "# Create the project planning graph with checkpointing enabled\n",
    "graph: CompiledGraph = create_project_planning_graph(llm, use_checkpointing=True)"
   ]
  },
  {
   "cell_type": "code",
   "execution_count": null,
   "id": "a1286b93",
   "metadata": {},
   "outputs": [],
   "source": [
    "try:\n",
    "    display(Image(graph.get_graph().draw_png()))\n",
    "except Exception as e:\n",
    "    print(f\"Error creating graph: {e}\")"
   ]
  },
  {
   "cell_type": "markdown",
   "id": "8b54ffbe",
   "metadata": {},
   "source": [
    "## Running the Project Planning Process\n",
    "\n",
    "We run the project planning graph with a sample input. The system will process the input through all the agents in the workflow and may request human assistance when needed."
   ]
  },
  {
   "cell_type": "code",
   "execution_count": null,
   "id": "b9bba906",
   "metadata": {},
   "outputs": [],
   "source": [
    "# Run the project planning process\n",
    "results = run_project_planning_graph(\n",
    "    graph,\n",
    "    user_input=\"AgentFlow is a Python library that automates the orchestration of multi-step agent workflows by integrating intelligent planning, routing, and execution of specialized operations.\",\n",
    "    thread_id=\"demo-run-1\"  # Adding a unique thread ID for this run\n",
    ")\n",
    "\n",
    "# Display the number of steps processed\n",
    "print(f\"Process completed with {len(results)} steps\")"
   ]
  },
  {
   "cell_type": "code",
   "execution_count": null,
   "id": "dd97cc20",
   "metadata": {},
   "outputs": [],
   "source": [
    "# Example of how to extract final results\n",
    "final_result = results[-1] if results else None\n",
    "\n",
    "if final_result:\n",
    "    print(\"\\nFinal Project Plan Summary:\")\n",
    "    print(f\"Idea: {final_result.get('idea', {}).get('refined', 'Not defined')}\")\n",
    "    print(f\"Goals: {', '.join(final_result.get('goals', ['Not defined']))}\")\n",
    "    print(f\"Deliverables: {len(final_result.get('deliverables', []))} items\")\n",
    "    print(f\"Tasks: {len(final_result.get('tasks', []))} defined\")\n",
    "    \n",
    "    # If the PMAdapter was reached, display export info\n",
    "    if 'final_output' in final_result:\n",
    "        print(\"\\nExport Information:\")\n",
    "        print(f\"Format: {final_result['final_output'].get('format', 'Unknown')}\")\n",
    "        print(f\"Next Steps: {len(final_result['final_output'].get('next_steps', []))} items\")"
   ]
  },
  {
   "cell_type": "code",
   "execution_count": null,
   "id": "b0ad12f8",
   "metadata": {},
   "outputs": [],
   "source": [
    "# Interactive test with human input\n",
    "new_project_idea = input(\"Enter a new project idea to plan: \")\n",
    "\n",
    "if new_project_idea:\n",
    "    print(\"\\nProcessing your idea...\\n\")\n",
    "    results = run_project_planning_graph(\n",
    "        graph,\n",
    "        user_input=new_project_idea,\n",
    "        thread_id=f\"user-input-{hash(new_project_idea)[:8]}\"  # Generate a unique thread ID\n",
    "    )\n",
    "    \n",
    "    # Display last message from the process\n",
    "    if results and 'messages' in results[-1] and results[-1]['messages']:\n",
    "        last_message = results[-1]['messages'][-1]\n",
    "        print(f\"\\nFinal Response:\\n{last_message.content}\")"
   ]
  }
 ],
 "metadata": {
  "kernelspec": {
   "display_name": ".venv",
   "language": "python",
   "name": "python3"
  },
  "language_info": {
   "codemirror_mode": {
    "name": "ipython",
    "version": 3
   },
   "file_extension": ".py",
   "mimetype": "text/x-python",
   "name": "python",
   "nbconvert_exporter": "python",
   "pygments_lexer": "ipython3",
   "version": "3.10.13"
  }
 },
 "nbformat": 4,
 "nbformat_minor": 5
}
